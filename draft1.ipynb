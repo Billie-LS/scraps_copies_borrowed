{
 "cells": [
  {
   "cell_type": "code",
   "execution_count": 1,
   "id": "cd430e04-edda-4855-ba0e-df44a94c0d5e",
   "metadata": {},
   "outputs": [],
   "source": [
    "# Monte Carlo Simulation Build\n",
    "# non-normal multivariant distributions"
   ]
  },
  {
   "cell_type": "code",
   "execution_count": 1,
   "id": "706ba08d-82aa-4eb5-9d8b-bb58e4b1afe9",
   "metadata": {},
   "outputs": [],
   "source": [
    "import pandas as pd\n",
    "from pandas_datareader import data as pdr\n",
    "\n",
    "import numpy as np\n",
    "\n",
    "import matplotlib.pyplot as plt\n",
    "import datetime as dt\n",
    "\n",
    "from scipy import stats\n",
    "\n",
    "import yfinance as yf"
   ]
  },
  {
   "cell_type": "code",
   "execution_count": 2,
   "id": "5127e1ee-6e68-4459-a596-c9745073b891",
   "metadata": {},
   "outputs": [
    {
     "data": {
      "text/plain": [
       "(datetime.datetime(2017, 10, 14, 13, 47, 52, 675364),\n",
       " datetime.datetime(2022, 10, 13, 13, 47, 52, 675364))"
      ]
     },
     "execution_count": 2,
     "metadata": {},
     "output_type": "execute_result"
    }
   ],
   "source": [
    "# specifiy our date range for data\n",
    "end_date = dt.datetime.now()\n",
    "start_date = end_date - dt.timedelta(days = 1825)\n",
    "start, end = start_date, end_date\n",
    "start, end                                       # verify our date range"
   ]
  },
  {
   "cell_type": "code",
   "execution_count": 3,
   "id": "c8ad59a1-f7ba-4685-8209-b0d5323a8f0f",
   "metadata": {},
   "outputs": [
    {
     "data": {
      "text/plain": [
       "['^GSPC', 'AAPL', 'IBM', 'TSLA', 'GOOGL']"
      ]
     },
     "execution_count": 3,
     "metadata": {},
     "output_type": "execute_result"
    }
   ],
   "source": [
    "asset_list = ['AAPL', 'IBM', 'TSLA', 'GOOGL']\n",
    "stocks = ['^GSPC'] + asset_list                              # adding S&P 500 index (^GSPC)for use in beta weighting\n",
    "stocks"
   ]
  },
  {
   "cell_type": "markdown",
   "id": "aa6161fa-f88d-4185-b840-ed8670306c2d",
   "metadata": {},
   "source": [
    "## yahoo access via panda datareader-\n",
    "###    pdr.DataReader(stocks, 'yahoo', start, end)\n",
    "### or\n",
    "###    pdr.get_data_yahoo(stocks, start, end)"
   ]
  },
  {
   "cell_type": "code",
   "execution_count": 11,
   "id": "763d7cad-c665-469b-aa3f-5e88e1f2b888",
   "metadata": {},
   "outputs": [],
   "source": [
    "# get the data\n",
    "def get_the_data(stocks, start, end):\n",
    "    stock_data = pdr.get_data_yahoo(stocks, start, end)\n",
    "    stock_data = stock_data['Close']\n",
    "    returns = stock_data.pct_change()\n",
    "    mean_returns = returns.mean()\n",
    "    log_returns = np.log(stock_data.Close / stock_data.Close.shift(1)).dropna()\n",
    "    stock_covariance = returns.cov()\n",
    "    return stock_data, mean_returns, log_returns, stock_covariance"
   ]
  },
  {
   "cell_type": "code",
   "execution_count": 12,
   "id": "276c3d57-521a-4ce9-ab11-c652715bfe87",
   "metadata": {},
   "outputs": [
    {
     "ename": "AttributeError",
     "evalue": "'DataFrame' object has no attribute 'Close'",
     "output_type": "error",
     "traceback": [
      "\u001b[0;31m---------------------------------------------------------------------------\u001b[0m",
      "\u001b[0;31mAttributeError\u001b[0m                            Traceback (most recent call last)",
      "\u001b[0;32m/var/folders/t7/x7q1pbqj4ss8841vmphkd2v00000gn/T/ipykernel_31359/2048360727.py\u001b[0m in \u001b[0;36m<module>\u001b[0;34m\u001b[0m\n\u001b[1;32m      2\u001b[0m \u001b[0;31m# display(log_returns.shape)\u001b[0m\u001b[0;34m\u001b[0m\u001b[0;34m\u001b[0m\u001b[0m\n\u001b[1;32m      3\u001b[0m \u001b[0;31m# display(log_returns.head())\u001b[0m\u001b[0;34m\u001b[0m\u001b[0;34m\u001b[0m\u001b[0m\n\u001b[0;32m----> 4\u001b[0;31m \u001b[0mstock_data\u001b[0m\u001b[0;34m,\u001b[0m \u001b[0mmean_returns\u001b[0m\u001b[0;34m,\u001b[0m \u001b[0mlog_returns\u001b[0m\u001b[0;34m,\u001b[0m \u001b[0mstock_covariance\u001b[0m \u001b[0;34m=\u001b[0m \u001b[0mget_the_data\u001b[0m\u001b[0;34m(\u001b[0m\u001b[0mstocks\u001b[0m\u001b[0;34m,\u001b[0m \u001b[0mstart\u001b[0m\u001b[0;34m,\u001b[0m \u001b[0mend\u001b[0m\u001b[0;34m)\u001b[0m\u001b[0;34m\u001b[0m\u001b[0;34m\u001b[0m\u001b[0m\n\u001b[0m\u001b[1;32m      5\u001b[0m \u001b[0mdisplay\u001b[0m\u001b[0;34m(\u001b[0m\u001b[0mstock_data\u001b[0m\u001b[0;34m.\u001b[0m\u001b[0mhead\u001b[0m\u001b[0;34m(\u001b[0m\u001b[0;34m)\u001b[0m\u001b[0;34m)\u001b[0m\u001b[0;34m\u001b[0m\u001b[0;34m\u001b[0m\u001b[0m\n",
      "\u001b[0;32m/var/folders/t7/x7q1pbqj4ss8841vmphkd2v00000gn/T/ipykernel_31359/3351807347.py\u001b[0m in \u001b[0;36mget_the_data\u001b[0;34m(stocks, start, end)\u001b[0m\n\u001b[1;32m      5\u001b[0m     \u001b[0mreturns\u001b[0m \u001b[0;34m=\u001b[0m \u001b[0mstock_data\u001b[0m\u001b[0;34m.\u001b[0m\u001b[0mpct_change\u001b[0m\u001b[0;34m(\u001b[0m\u001b[0;34m)\u001b[0m\u001b[0;34m\u001b[0m\u001b[0;34m\u001b[0m\u001b[0m\n\u001b[1;32m      6\u001b[0m     \u001b[0mmean_returns\u001b[0m \u001b[0;34m=\u001b[0m \u001b[0mreturns\u001b[0m\u001b[0;34m.\u001b[0m\u001b[0mmean\u001b[0m\u001b[0;34m(\u001b[0m\u001b[0;34m)\u001b[0m\u001b[0;34m\u001b[0m\u001b[0;34m\u001b[0m\u001b[0m\n\u001b[0;32m----> 7\u001b[0;31m     \u001b[0mlog_returns\u001b[0m \u001b[0;34m=\u001b[0m \u001b[0mnp\u001b[0m\u001b[0;34m.\u001b[0m\u001b[0mlog\u001b[0m\u001b[0;34m(\u001b[0m\u001b[0mstock_data\u001b[0m\u001b[0;34m.\u001b[0m\u001b[0mClose\u001b[0m \u001b[0;34m/\u001b[0m \u001b[0mstock_data\u001b[0m\u001b[0;34m.\u001b[0m\u001b[0mClose\u001b[0m\u001b[0;34m.\u001b[0m\u001b[0mshift\u001b[0m\u001b[0;34m(\u001b[0m\u001b[0;36m1\u001b[0m\u001b[0;34m)\u001b[0m\u001b[0;34m)\u001b[0m\u001b[0;34m.\u001b[0m\u001b[0mdropna\u001b[0m\u001b[0;34m(\u001b[0m\u001b[0;34m)\u001b[0m\u001b[0;34m\u001b[0m\u001b[0;34m\u001b[0m\u001b[0m\n\u001b[0m\u001b[1;32m      8\u001b[0m     \u001b[0mstock_covariance\u001b[0m \u001b[0;34m=\u001b[0m \u001b[0mreturns\u001b[0m\u001b[0;34m.\u001b[0m\u001b[0mcov\u001b[0m\u001b[0;34m(\u001b[0m\u001b[0;34m)\u001b[0m\u001b[0;34m\u001b[0m\u001b[0;34m\u001b[0m\u001b[0m\n\u001b[1;32m      9\u001b[0m     \u001b[0;32mreturn\u001b[0m \u001b[0mstock_data\u001b[0m\u001b[0;34m,\u001b[0m \u001b[0mmean_returns\u001b[0m\u001b[0;34m,\u001b[0m \u001b[0mlog_returns\u001b[0m\u001b[0;34m,\u001b[0m \u001b[0mstock_covariance\u001b[0m\u001b[0;34m\u001b[0m\u001b[0;34m\u001b[0m\u001b[0m\n",
      "\u001b[0;32m/opt/anaconda3/envs/quant_env/lib/python3.9/site-packages/pandas/core/generic.py\u001b[0m in \u001b[0;36m__getattr__\u001b[0;34m(self, name)\u001b[0m\n\u001b[1;32m   5573\u001b[0m         ):\n\u001b[1;32m   5574\u001b[0m             \u001b[0;32mreturn\u001b[0m \u001b[0mself\u001b[0m\u001b[0;34m[\u001b[0m\u001b[0mname\u001b[0m\u001b[0;34m]\u001b[0m\u001b[0;34m\u001b[0m\u001b[0;34m\u001b[0m\u001b[0m\n\u001b[0;32m-> 5575\u001b[0;31m         \u001b[0;32mreturn\u001b[0m \u001b[0mobject\u001b[0m\u001b[0;34m.\u001b[0m\u001b[0m__getattribute__\u001b[0m\u001b[0;34m(\u001b[0m\u001b[0mself\u001b[0m\u001b[0;34m,\u001b[0m \u001b[0mname\u001b[0m\u001b[0;34m)\u001b[0m\u001b[0;34m\u001b[0m\u001b[0;34m\u001b[0m\u001b[0m\n\u001b[0m\u001b[1;32m   5576\u001b[0m \u001b[0;34m\u001b[0m\u001b[0m\n\u001b[1;32m   5577\u001b[0m     \u001b[0;32mdef\u001b[0m \u001b[0m__setattr__\u001b[0m\u001b[0;34m(\u001b[0m\u001b[0mself\u001b[0m\u001b[0;34m,\u001b[0m \u001b[0mname\u001b[0m\u001b[0;34m:\u001b[0m \u001b[0mstr\u001b[0m\u001b[0;34m,\u001b[0m \u001b[0mvalue\u001b[0m\u001b[0;34m)\u001b[0m \u001b[0;34m->\u001b[0m \u001b[0;32mNone\u001b[0m\u001b[0;34m:\u001b[0m\u001b[0;34m\u001b[0m\u001b[0;34m\u001b[0m\u001b[0m\n",
      "\u001b[0;31mAttributeError\u001b[0m: 'DataFrame' object has no attribute 'Close'"
     ]
    }
   ],
   "source": [
    "# Confirm log returns for beta\n",
    "# display(log_returns.shape)\n",
    "# display(log_returns.head())\n",
    "stock_data, mean_returns, log_returns, stock_covariance = get_the_data(stocks, start, end)\n",
    "display(stock_data.head())"
   ]
  },
  {
   "cell_type": "code",
   "execution_count": null,
   "id": "fd073a49-dc0a-4de5-89cc-27595521d62f",
   "metadata": {},
   "outputs": [],
   "source": [
    "# 'Market'as a whole is S&P 500 index = GSPC\n",
    "# DIRECT BETA CALCULATION =>      covariance(GSPC, stock) /  variance(GSPC)  ; note variance of S&P500 = covariance(S&P500, S&P500)   "
   ]
  },
  {
   "cell_type": "code",
   "execution_count": null,
   "id": "13983d66-3d42-423f-8537-61d9a9634051",
   "metadata": {},
   "outputs": [],
   "source": [
    "# Beta\n",
    "def direct_beta(log_returns):\n",
    "    np_array = dataframe.values\n",
    "    # S&P 500 index (^GSPC) is in first column, 0\n",
    "    m = np_array[:,0]\n",
    "    beta = []\n",
    "    for index, col in enumerate(dataframe):\n",
    "        if index > 0:\n",
    "            # asset returns indexed by index\n",
    "            s = np_array[:,index]\n",
    "            # calculating covariance between assets and S&P 500 index (GSPC)\n",
    "            covariance = np.cov(s, m)\n",
    "            beta.append(covariance[0,1] / covariance[1,1])\n",
    "\n",
    "    return pd.Series(beta, dataframe.columns[1:], name = 'Beta')\n",
    "\n",
    "direct_beta(log_returns)"
   ]
  },
  {
   "cell_type": "code",
   "execution_count": null,
   "id": "4dc42395-6ec0-4095-95c2-7b2f58983bc8",
   "metadata": {},
   "outputs": [],
   "source": [
    "# get the data\n",
    "def get_the_data(stocks, start, end):\n",
    "    stock_data = pdr.get_data_yahoo(stocks, start, end)\n",
    "    stock_data = stock_data['Close']\n",
    "    returns = stock_data.pct_change()\n",
    "    mean_returns = returns.mean()\n",
    "    stock_covariance = returns.cov()\n",
    "    return mean_returns, stock_covariance"
   ]
  },
  {
   "cell_type": "code",
   "execution_count": null,
   "id": "944d5813-3dbc-491d-a19c-9714f4a00271",
   "metadata": {},
   "outputs": [],
   "source": [
    "asset_list = ['AAPL', 'IBM', 'TSLA', 'GOOGL']\n",
    "stocks = asset_list\n",
    "end_date = dt.datetime.now()\n",
    "start_date = end_date - dt.timedelta(days = 365)"
   ]
  },
  {
   "cell_type": "code",
   "execution_count": null,
   "id": "7b9d9b54-17c2-4611-a5ae-b695df6022c4",
   "metadata": {},
   "outputs": [],
   "source": [
    "mean_returns,  stock_covariance = get_the_data(stocks, start_date, end_date)\n",
    "print(mean_returns)"
   ]
  },
  {
   "cell_type": "code",
   "execution_count": null,
   "id": "1067567b-2fa3-48e7-9a86-2152ef72e716",
   "metadata": {},
   "outputs": [],
   "source": [
    "# random weighting\n",
    "weight = np.random.random(len(mean_returns))   # derives number between 0 and 1\n",
    "weight /= np.sum(weight)\n",
    "print(weight)"
   ]
  },
  {
   "cell_type": "code",
   "execution_count": null,
   "id": "6cf4aed7-fc05-40ed-bd4e-6f15a62734d5",
   "metadata": {},
   "outputs": [],
   "source": [
    "# Monte Carlo Simulattion Generator"
   ]
  },
  {
   "cell_type": "code",
   "execution_count": null,
   "id": "485b32da-3338-4f40-8fbc-fc516fa2791e",
   "metadata": {},
   "outputs": [],
   "source": [
    "# number of simulations\n",
    "mc_sims = 100\n",
    "# timeframe in days\n",
    "T = 365"
   ]
  },
  {
   "cell_type": "code",
   "execution_count": null,
   "id": "b304c1a0-d90f-421f-a3ff-77603e325bc0",
   "metadata": {},
   "outputs": [],
   "source": [
    "mean_m = np.full(shape=(T, len(weight)), fill_value=mean_returns)   #  shape is T(timeframe days) and number of weight\n",
    "mean_m = mean_m.T     # transpose"
   ]
  },
  {
   "cell_type": "code",
   "execution_count": null,
   "id": "be9b8570-8caf-411b-88d8-3a6ea4fc494e",
   "metadata": {},
   "outputs": [],
   "source": [
    "# array/matrix to store the information\n",
    "portfolio_simulations = np.full(shape=(T, mc_sims), fill_value=0.0)  # shape is factor of time and number of sims; fill = 0.0 allows for floats"
   ]
  },
  {
   "cell_type": "code",
   "execution_count": null,
   "id": "9df5ae11-d11c-425b-b6dd-63b4f1747a40",
   "metadata": {},
   "outputs": [],
   "source": [
    "# simulate initial value\n",
    "starting_portfolio_value = 10000"
   ]
  },
  {
   "cell_type": "code",
   "execution_count": null,
   "id": "7f0b1ebb-9b7f-4135-9361-8faaae057b41",
   "metadata": {},
   "outputs": [],
   "source": [
    "#.     check cholesky decomposition triangle matrix\n",
    "for m in range(0, mc_sims):\n",
    "    # Monte Carlo loops\n",
    "    Z = np.random.normal(size = (T, len(weight)))   # T x number assets uncorrelated random variables from norm distribution\n",
    "    L = np.linalg.cholesky(stock_covariance)              # lower triangle for cholesky decomp\n",
    "    daily_returns = mean_m + np.inner(L, Z)\n",
    "    portfolio_simulations[:,m] = np.cumprod(np.inner(weight, daily_returns.T)+1) * starting_portfolio_value"
   ]
  },
  {
   "cell_type": "code",
   "execution_count": null,
   "id": "22f389e0-bafd-4f67-a1cd-b404f0d921a5",
   "metadata": {},
   "outputs": [],
   "source": [
    "# visualize\n",
    "plt.plot(portfolio_simulations)\n",
    "plt.ylabel('Value of Portfolio ($)')\n",
    "plt.xlabel('Days')\n",
    "plt.title('Monte Carlo Simulation Portfolio Performance')\n",
    "plt.show"
   ]
  },
  {
   "cell_type": "code",
   "execution_count": null,
   "id": "48d4f480-af2c-4697-b306-847ef98cb227",
   "metadata": {},
   "outputs": [],
   "source": [
    "# Value at risk and conditional value at risk"
   ]
  },
  {
   "cell_type": "code",
   "execution_count": null,
   "id": "8a4bd4c4-bf2d-4f73-80b3-4b5b39e9e93d",
   "metadata": {},
   "outputs": [],
   "source": [
    "def mc_value_at_risk(returns, alpha = 5):    #alpha default fifth percentile\n",
    "    # input: panda series of returns\n",
    "    # output: percentile on return distribution to a given confidence level alpha\n",
    "    if isinstance(returns, pd.Series):\n",
    "        return np.percentile(returns, alpha)\n",
    "    else:\n",
    "        raise TypeError('expected a panda data series')\n"
   ]
  },
  {
   "cell_type": "code",
   "execution_count": null,
   "id": "2e4c7c29-7a22-4946-bc3f-4cd6e1c886e3",
   "metadata": {},
   "outputs": [],
   "source": [
    "# conditional value at risk - expected shortfall once passed beyond the percentile of interest\n",
    "#                             to a certain confidence interval what is our expected shortfall below that percentile\n",
    "def mc_conditional_value_at_risk(returns, alpha = 5):    #alpha default fifth percentile\n",
    "    # input: panda series of returns\n",
    "    # output: mc_conditional_value_risk or expected shortfall to a given confidence level alpha\n",
    "    if isinstance(returns, pd.Series):\n",
    "        below_value_at_risk = returns <= mc_value_at_risk(returns, alpha = alpha)\n",
    "        return returns[below_value_at_risk].mean()\n",
    "    else:\n",
    "        raise TypeError('expected a panda data series')"
   ]
  },
  {
   "cell_type": "code",
   "execution_count": null,
   "id": "33e8c709-d266-41fe-8cba-3bc9d42eb8e2",
   "metadata": {},
   "outputs": [],
   "source": [
    "#\n",
    "portfolio_results = pd.Series(portfolio_simulations[-1,:])"
   ]
  },
  {
   "cell_type": "code",
   "execution_count": null,
   "id": "7e17dd1a-4859-4212-b9f7-b26978de8c50",
   "metadata": {},
   "outputs": [],
   "source": [
    "value_at_risk = starting_portfolio_value - mc_value_at_risk(portfolio_results, alpha = 5)\n",
    "conditional_value_at_risk = starting_portfolio_value - mc_conditional_value_at_risk(portfolio_results, alpha = 5)\n",
    "\n",
    "print('Value at Risk ${}'.format(round(value_at_risk,2)))\n",
    "print('Conditional Value at Risk ${}'.format(round(conditional_value_at_risk,2)))"
   ]
  },
  {
   "cell_type": "code",
   "execution_count": null,
   "id": "a2282aa6-2f95-4028-b34f-a8dc1d5c1239",
   "metadata": {},
   "outputs": [],
   "source": []
  },
  {
   "cell_type": "code",
   "execution_count": null,
   "id": "643a5ea3-257e-4102-811e-c26fd2f735d2",
   "metadata": {},
   "outputs": [],
   "source": []
  }
 ],
 "metadata": {
  "kernelspec": {
   "display_name": "Python 3 (ipykernel)",
   "language": "python",
   "name": "python3"
  },
  "language_info": {
   "codemirror_mode": {
    "name": "ipython",
    "version": 3
   },
   "file_extension": ".py",
   "mimetype": "text/x-python",
   "name": "python",
   "nbconvert_exporter": "python",
   "pygments_lexer": "ipython3",
   "version": "3.9.13"
  }
 },
 "nbformat": 4,
 "nbformat_minor": 5
}
