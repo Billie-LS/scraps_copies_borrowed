{
 "cells": [
  {
   "cell_type": "code",
   "execution_count": 1,
   "id": "469e8a2e-fedd-4e48-94e8-bbe220fcfb32",
   "metadata": {},
   "outputs": [],
   "source": [
    "import pandas as pd\n",
    "from dotenv import load_dotenv\n",
    "import alpaca_trade_api as tradeapi\n",
    "import datetime as dt\n"
   ]
  },
  {
   "cell_type": "code",
   "execution_count": 2,
   "id": "5b8b3386-479a-466b-a2f8-e2b43be32dd0",
   "metadata": {},
   "outputs": [
    {
     "data": {
      "text/plain": [
       "(datetime.datetime(2017, 10, 14, 12, 17, 55, 868075),\n",
       " datetime.datetime(2022, 10, 13, 12, 17, 55, 868075))"
      ]
     },
     "execution_count": 2,
     "metadata": {},
     "output_type": "execute_result"
    }
   ],
   "source": [
    "end_date = dt.datetime.now()\n",
    "start_date = end_date - dt.timedelta(days = 1825)\n",
    "start, end = start_date, end_date\n",
    "start, end                                       # verify our date range"
   ]
  },
  {
   "cell_type": "code",
   "execution_count": 4,
   "id": "a3302ecd-587e-4e9b-9deb-88471e93b262",
   "metadata": {},
   "outputs": [
    {
     "ename": "SyntaxError",
     "evalue": "invalid non-printable character U+200B (3938650802.py, line 7)",
     "output_type": "error",
     "traceback": [
      "\u001b[0;36m  File \u001b[0;32m\"/var/folders/t7/x7q1pbqj4ss8841vmphkd2v00000gn/T/ipykernel_30418/3938650802.py\"\u001b[0;36m, line \u001b[0;32m7\u001b[0m\n\u001b[0;31m    ​\u001b[0m\n\u001b[0m    ^\u001b[0m\n\u001b[0;31mSyntaxError\u001b[0m\u001b[0;31m:\u001b[0m invalid non-printable character U+200B\n"
     ]
    }
   ],
   "source": [
    "# def mpt_precanned_asset_selection(asset_tickers, market_ticker, Start_date, End_date):\n",
    "mpt_precanned_asset_selection(asset_tickers=['PLTR', 'TSLA'],  market_ticker=['DJI'], Start_date='2017-01-01', End_date='2022-10-12')\n",
    "    \n",
    "    ##function accepts: asset_tickers,  as a list of tickers in str format, a market benchmark ticker as a str, an end date as a str and a start date \n",
    "    #as a string. \n",
    "    ##to use: import mpt_pre_canned_asset_selection from data-collection.py and call function and pass it the aforementioned parameters  \n",
    "​\n",
    "​\n",
    "    alpaca_api_key = \"AKEF6S32QWN9RJIQVYDP\"\n",
    "    secret_key = \"TG3BiIvp1u1fcaEpcXdXNaNw4u2nPqNfdVH7GXBz\"\n",
    "    alpaca = tradeapi.REST(alpaca_api_key, secret_key, api_version='v2')\n",
    "​\n",
    "  \n",
    "    symbols = asset_tickers\n",
    "    market_symbol = market_ticker\n",
    "    \n",
    "    timeframe = '1D'\n",
    "    start_date = pd.Timestamp(Start_date, tz='America/New_York').isoformat() \n",
    "    end_date = pd.Timestamp(End_date,tz='America/New_York').isoformat()\n",
    "​\n",
    "    asset_df = alpaca.get_bars(symbols, timeframe, start_date, end_date).df\n",
    "    \n",
    "    market_df = alpaca.get_bars(market_symbol, timeframe, start_date, end_date).df\n",
    "    asset_df = asset_df.set_index(['symbol'])\n",
    "    asset_df = asset_df.drop(['vwap', 'high', 'open', 'low', 'trade_count'], axis=1)\n",
    "    asset_df = asset_df.dropna()\n",
    "    market_df = market_df.set_index(['symbol'])\n",
    "    market_df = market_df.drop(['vwap', 'high', 'open', 'low', 'trade_count'], axis=1)\n",
    "    market_df =  market_df.dropna()\n",
    "​\n",
    "    return asset_df, asset_tickers, market_ticker, market_df"
   ]
  },
  {
   "cell_type": "code",
   "execution_count": null,
   "id": "f7ce0c9f-e01e-4f10-bc15-ace7e0f8d83b",
   "metadata": {},
   "outputs": [],
   "source": []
  }
 ],
 "metadata": {
  "kernelspec": {
   "display_name": "Python 3 (ipykernel)",
   "language": "python",
   "name": "python3"
  },
  "language_info": {
   "codemirror_mode": {
    "name": "ipython",
    "version": 3
   },
   "file_extension": ".py",
   "mimetype": "text/x-python",
   "name": "python",
   "nbconvert_exporter": "python",
   "pygments_lexer": "ipython3",
   "version": "3.9.13"
  }
 },
 "nbformat": 4,
 "nbformat_minor": 5
}
