{
 "cells": [
  {
   "cell_type": "markdown",
   "id": "13153de1-9da0-419a-9ea8-d78130770c9a",
   "metadata": {},
   "source": [
    "Modern Portfolio Theory"
   ]
  },
  {
   "cell_type": "code",
   "execution_count": 1,
   "id": "45c17053-e0cb-4938-b889-19544adfe22a",
   "metadata": {},
   "outputs": [],
   "source": [
    "import pandas as pd\n",
    "import datetime as dt\n",
    "from pandas_datareader import data as pdr"
   ]
  },
  {
   "cell_type": "code",
   "execution_count": 2,
   "id": "d535440c-6d9a-481c-94ef-4d1f274a869c",
   "metadata": {},
   "outputs": [],
   "source": [
    "# import data\n",
    "def gets_the_data(stocks, start, end):\n",
    "    stock_data = pdr.get_data_yahoo(stocks, start = start, end = end)\n",
    "    stock_data = stock_data['close']\n",
    "    \n",
    "    returns = stockdata.pct_change()\n",
    "    mean_returns = returns.mean()\n",
    "    covariance = returns.cov()\n",
    "    \n",
    "    return mean_returns, covariance, stock_data\n"
   ]
  },
  {
   "cell_type": "code",
   "execution_count": 3,
   "id": "48afd964-1637-40c8-b578-f04ccc884400",
   "metadata": {},
   "outputs": [],
   "source": [
    "# performance\n",
    "def portfolio_performance(weight, mean_returns, covariance):\n",
    "    returns = np.sum(mean_returns * weight)*252\n",
    "    std_dev = np.sqrt(np.dot(weight.T, np.dot(covariance, weight))) * np.sqrt(252)    #  portfolio variance\n",
    "    return returns, std_dev"
   ]
  },
  {
   "cell_type": "code",
   "execution_count": 6,
   "id": "db33d457-0d2b-4acf-be3a-fc44542e7750",
   "metadata": {},
   "outputs": [],
   "source": [
    "# import data\n",
    "def getData(stocks, start, end):\n",
    "    stockdata = pdr.get_data_yahoo(stocks, start = start, end = end)\n",
    "    stockData = stockData['close']\n",
    "    return stockdata\n",
    "\n",
    "stocklist = ['GOOGL', 'AAPL', 'TSLA', 'IBM']\n",
    "stocks = stocklist \n",
    "\n",
    "endDate = dt.datetime.now()\n",
    "startDate = endDate - dt.timedelta(days=365)\n",
    "\n",
    "weight = [0.3, 0.3, 0.4]"
   ]
  },
  {
   "cell_type": "code",
   "execution_count": 7,
   "id": "1063c13f-ca15-4bcf-a075-646f78c77fd5",
   "metadata": {},
   "outputs": [
    {
     "ename": "UnboundLocalError",
     "evalue": "local variable 'stockData' referenced before assignment",
     "output_type": "error",
     "traceback": [
      "\u001b[0;31m---------------------------------------------------------------------------\u001b[0m",
      "\u001b[0;31mUnboundLocalError\u001b[0m                         Traceback (most recent call last)",
      "\u001b[0;32m/var/folders/t7/x7q1pbqj4ss8841vmphkd2v00000gn/T/ipykernel_31666/121698765.py\u001b[0m in \u001b[0;36m<module>\u001b[0;34m\u001b[0m\n\u001b[0;32m----> 1\u001b[0;31m \u001b[0mmean_returns\u001b[0m\u001b[0;34m,\u001b[0m \u001b[0mcovariance\u001b[0m \u001b[0;34m=\u001b[0m \u001b[0;34m(\u001b[0m\u001b[0mgetData\u001b[0m\u001b[0;34m(\u001b[0m\u001b[0mstocks\u001b[0m\u001b[0;34m,\u001b[0m \u001b[0mstart\u001b[0m \u001b[0;34m=\u001b[0m \u001b[0mstartDate\u001b[0m\u001b[0;34m,\u001b[0m \u001b[0mend\u001b[0m \u001b[0;34m=\u001b[0m \u001b[0mendDate\u001b[0m\u001b[0;34m)\u001b[0m\u001b[0;34m)\u001b[0m\u001b[0;34m\u001b[0m\u001b[0;34m\u001b[0m\u001b[0m\n\u001b[0m\u001b[1;32m      2\u001b[0m \u001b[0mreturns\u001b[0m\u001b[0;34m,\u001b[0m \u001b[0mstd_dev\u001b[0m \u001b[0;34m=\u001b[0m \u001b[0mportfolio_performance\u001b[0m\u001b[0;34m(\u001b[0m\u001b[0mweight\u001b[0m\u001b[0;34m,\u001b[0m \u001b[0mmean_returns\u001b[0m\u001b[0;34m,\u001b[0m \u001b[0mcovariance\u001b[0m\u001b[0;34m)\u001b[0m\u001b[0;34m\u001b[0m\u001b[0;34m\u001b[0m\u001b[0m\n\u001b[1;32m      3\u001b[0m \u001b[0;34m\u001b[0m\u001b[0m\n\u001b[1;32m      4\u001b[0m \u001b[0mprint\u001b[0m\u001b[0;34m(\u001b[0m\u001b[0mreturns\u001b[0m\u001b[0;34m,\u001b[0m \u001b[0mstd_dev\u001b[0m\u001b[0;34m)\u001b[0m\u001b[0;34m\u001b[0m\u001b[0;34m\u001b[0m\u001b[0m\n",
      "\u001b[0;32m/var/folders/t7/x7q1pbqj4ss8841vmphkd2v00000gn/T/ipykernel_31666/1118748493.py\u001b[0m in \u001b[0;36mgetData\u001b[0;34m(stocks, start, end)\u001b[0m\n\u001b[1;32m      2\u001b[0m \u001b[0;32mdef\u001b[0m \u001b[0mgetData\u001b[0m\u001b[0;34m(\u001b[0m\u001b[0mstocks\u001b[0m\u001b[0;34m,\u001b[0m \u001b[0mstart\u001b[0m\u001b[0;34m,\u001b[0m \u001b[0mend\u001b[0m\u001b[0;34m)\u001b[0m\u001b[0;34m:\u001b[0m\u001b[0;34m\u001b[0m\u001b[0;34m\u001b[0m\u001b[0m\n\u001b[1;32m      3\u001b[0m     \u001b[0mstockdata\u001b[0m \u001b[0;34m=\u001b[0m \u001b[0mpdr\u001b[0m\u001b[0;34m.\u001b[0m\u001b[0mget_data_yahoo\u001b[0m\u001b[0;34m(\u001b[0m\u001b[0mstocks\u001b[0m\u001b[0;34m,\u001b[0m \u001b[0mstart\u001b[0m \u001b[0;34m=\u001b[0m \u001b[0mstart\u001b[0m\u001b[0;34m,\u001b[0m \u001b[0mend\u001b[0m \u001b[0;34m=\u001b[0m \u001b[0mend\u001b[0m\u001b[0;34m)\u001b[0m\u001b[0;34m\u001b[0m\u001b[0;34m\u001b[0m\u001b[0m\n\u001b[0;32m----> 4\u001b[0;31m     \u001b[0mstockData\u001b[0m \u001b[0;34m=\u001b[0m \u001b[0mstockData\u001b[0m\u001b[0;34m[\u001b[0m\u001b[0;34m'close'\u001b[0m\u001b[0;34m]\u001b[0m\u001b[0;34m\u001b[0m\u001b[0;34m\u001b[0m\u001b[0m\n\u001b[0m\u001b[1;32m      5\u001b[0m     \u001b[0;32mreturn\u001b[0m \u001b[0mstockdata\u001b[0m\u001b[0;34m\u001b[0m\u001b[0;34m\u001b[0m\u001b[0m\n\u001b[1;32m      6\u001b[0m \u001b[0;34m\u001b[0m\u001b[0m\n",
      "\u001b[0;31mUnboundLocalError\u001b[0m: local variable 'stockData' referenced before assignment"
     ]
    }
   ],
   "source": [
    "mean_returns, covariance = (getData(stocks, start = startDate, end = endDate))\n",
    "returns, std_dev = portfolio_performance(weight, mean_returns, covariance)\n",
    "\n",
    "print(returns, std_dev)"
   ]
  },
  {
   "cell_type": "code",
   "execution_count": null,
   "id": "bf6bb967-3548-4717-b754-1b117cde1afa",
   "metadata": {},
   "outputs": [],
   "source": []
  }
 ],
 "metadata": {
  "kernelspec": {
   "display_name": "Python 3 (ipykernel)",
   "language": "python",
   "name": "python3"
  },
  "language_info": {
   "codemirror_mode": {
    "name": "ipython",
    "version": 3
   },
   "file_extension": ".py",
   "mimetype": "text/x-python",
   "name": "python",
   "nbconvert_exporter": "python",
   "pygments_lexer": "ipython3",
   "version": "3.9.13"
  }
 },
 "nbformat": 4,
 "nbformat_minor": 5
}
