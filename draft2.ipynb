{
 "cells": [
  {
   "cell_type": "code",
   "execution_count": 24,
   "id": "179c4841-63b1-4f03-b300-3998690859a4",
   "metadata": {},
   "outputs": [],
   "source": [
    "import pandas as pd\n",
    "from pandas_datareader import data as pdr\n",
    "\n",
    "import numpy as np\n",
    "\n",
    "import matplotlib.pyplot as plt\n",
    "import datetime as dt\n",
    "\n",
    "import scipy as sci\n",
    "from scipy import stats\n",
    "import scipy.optimize as sco\n",
    "\n",
    "import yfinance as yf\n",
    "\n",
    "from pypfopt import(\n",
    "    EfficientFrontier,\n",
    "    risk_models,\n",
    "    expected_returns\n",
    ")\n",
    "from pypfopt.discrete_allocation import(\n",
    "    DiscreteAllocation,\n",
    "    get_latest_prices\n",
    ")\n",
    "\n",
    "import plotly.graph_objects as go"
   ]
  },
  {
   "cell_type": "code",
   "execution_count": 25,
   "id": "403fa431-0dec-4d80-a652-5d09a99ad95e",
   "metadata": {},
   "outputs": [
    {
     "data": {
      "text/plain": [
       "(datetime.datetime(2017, 10, 14, 14, 51, 39, 398141),\n",
       " datetime.datetime(2022, 10, 13, 14, 51, 39, 398141))"
      ]
     },
     "execution_count": 25,
     "metadata": {},
     "output_type": "execute_result"
    }
   ],
   "source": [
    "# specifiy our date range for data\n",
    "end_date = dt.datetime.now()\n",
    "start_date = end_date - dt.timedelta(days = 1825)\n",
    "start, end = start_date, end_date\n",
    "start, end                                       # verify our date range"
   ]
  },
  {
   "cell_type": "code",
   "execution_count": 26,
   "id": "54b10346-cdad-45f5-92d5-e26205a0cd9f",
   "metadata": {},
   "outputs": [
    {
     "data": {
      "text/plain": [
       "['^GSPC', 'AAPL', 'IBM', 'TSLA', 'GOOGL']"
      ]
     },
     "execution_count": 26,
     "metadata": {},
     "output_type": "execute_result"
    }
   ],
   "source": [
    "# Basket\n",
    "asset_list = ['AAPL', 'IBM', 'TSLA', 'GOOGL']\n",
    "stocks = ['^GSPC'] + asset_list                              # adding S&P 500 index (^GSPC)for use in beta weighting\n",
    "stocks"
   ]
  },
  {
   "cell_type": "code",
   "execution_count": 27,
   "id": "a895d34d-ff55-4e4b-b937-93028723c233",
   "metadata": {},
   "outputs": [],
   "source": [
    "# get the data\n",
    "def get_the_data(stocks, start, end):\n",
    "    stock_data = pdr.get_data_yahoo(stocks, start, end)\n",
    "    stock_data = stock_data['Close']\n",
    "    returns = stock_data.pct_change()\n",
    "    mean_returns = returns.mean()\n",
    "    log_returns = np.log(stock_data / stock_data.shift(1)).dropna()\n",
    "    stock_covariance = returns.cov()\n",
    "    return stock_data, mean_returns, log_returns, stock_covariance\n",
    "\n",
    "stock_data, mean_returns, log_returns, stock_covariance = get_the_data(stocks, start, end)"
   ]
  },
  {
   "cell_type": "code",
   "execution_count": 28,
   "id": "081323e9-7e27-47d3-8dd7-2c292dce8a3c",
   "metadata": {},
   "outputs": [
    {
     "name": "stdout",
     "output_type": "stream",
     "text": [
      "OrderedDict([('^GSPC', 0.0), ('AAPL', 0.64523), ('IBM', 0.0), ('TSLA', 0.35477), ('GOOGL', 0.0)])\n",
      "Expected annual return: 39.0%\n",
      "Annual volatility: 37.5%\n",
      "Sharpe Ratio: 0.99\n"
     ]
    },
    {
     "data": {
      "text/plain": [
       "(0.39030140937381186, 0.3749573956034909, 0.9875826259615835)"
      ]
     },
     "execution_count": 28,
     "metadata": {},
     "output_type": "execute_result"
    }
   ],
   "source": [
    "# Read in price data\n",
    "# df = pd.read_csv(\"tests/resources/stock_prices.csv\", parse_dates=True, index_col=\"date\")\n",
    "\n",
    "# Calculate expected returns and sample covariance\n",
    "mu = expected_returns.mean_historical_return(stock_data)\n",
    "S = risk_models.sample_cov(stock_data)\n",
    "\n",
    "# Optimize for maximal Sharpe ratio\n",
    "ef = EfficientFrontier(mu, S)\n",
    "raw_weights = ef.max_sharpe()\n",
    "cleaned_weights = ef.clean_weights()\n",
    "ef.save_weights_to_file('weights.csv')  # saves to file\n",
    "print(cleaned_weights)\n",
    "ef.portfolio_performance(verbose=True)"
   ]
  },
  {
   "cell_type": "code",
   "execution_count": 29,
   "id": "61505dac-0c8a-4038-b313-55ed58d8d1d8",
   "metadata": {},
   "outputs": [
    {
     "name": "stdout",
     "output_type": "stream",
     "text": [
      "Discrete allocation: {'AAPL': 45, 'TSLA': 16}\n",
      "Funds remaining: $8.54\n"
     ]
    }
   ],
   "source": [
    "latest_prices = get_latest_prices(stock_data)\n",
    "\n",
    "da = DiscreteAllocation(cleaned_weights, latest_prices, total_portfolio_value=10000)\n",
    "allocation, leftover = da.greedy_portfolio()\n",
    "print(\"Discrete allocation:\", allocation)\n",
    "print(\"Funds remaining: ${:.2f}\".format(leftover))"
   ]
  },
  {
   "cell_type": "code",
   "execution_count": null,
   "id": "9aa109f2-a580-407e-a1c5-629bc66f32ec",
   "metadata": {},
   "outputs": [],
   "source": []
  },
  {
   "cell_type": "code",
   "execution_count": null,
   "id": "c07addf9-bb7c-4002-b550-3a788f55def3",
   "metadata": {},
   "outputs": [],
   "source": []
  },
  {
   "cell_type": "code",
   "execution_count": 30,
   "id": "3e39d30d-be14-4e5e-9c71-d859bdb70a6f",
   "metadata": {},
   "outputs": [],
   "source": [
    "# performance\n",
    "def portfolio_performance(weight, mean_returns, covariance, hurdle_rate = 0.0275):\n",
    "    returns = np.sum(mean_returns * weight)*252   # (mean_returns * weight).sum()*252\n",
    "    std_dev = np.sqrt(np.dot(weight.T, np.dot(covariance, weight))) * np.sqrt(252)    #  portfolio variance\n",
    "    return returns, std_dev\n"
   ]
  },
  {
   "cell_type": "code",
   "execution_count": 31,
   "id": "54099c79-ab90-4448-9c6b-2d7830b70c27",
   "metadata": {},
   "outputs": [],
   "source": [
    "def negative_sharpe_rat(weight, mean_returns, covariance, hurdle_rate = 0.0275):\n",
    "    p_returns, p_standard_dev = portfolio_performance(weight, mean_returns, covariance)\n",
    "    return -1*(p_returns - hurdle_rate) / p_standard_dev                "
   ]
  },
  {
   "cell_type": "code",
   "execution_count": 32,
   "id": "2453e057-d8b8-46d3-be50-5fc4b0355532",
   "metadata": {},
   "outputs": [],
   "source": [
    "def optimal_sharpe_rat(mean_returns, covariance, hurdle_rate=0.03, boundaries_set = (0,1)):\n",
    "    \"maximize sharpe rat or minimize negative sharpe rat via portfolio weighting\"\n",
    "    number_securities = len(mean_returns)\n",
    "    args = (mean_returns, covariance, hurdle_rate)\n",
    "    boundaries = ({'type': 'eq', 'fun': lambda x: np.sum(x) -1})     # see np scipy 'SLSQP', this is ~lambda weight\n",
    "    reaches = boundaries_set\n",
    "    barriers = tuple(reaches for security in range(number_securities))\n",
    "    result = sco.minimize(negative_sharpe_rat(weight, number_securities* [1.0/number_securities], args = args, method = 'SLSQP', barriers = barriers, boundaries = boundaries))   \n",
    "    return result\n"
   ]
  },
  {
   "cell_type": "code",
   "execution_count": 33,
   "id": "7294eac5-39b7-471b-86ee-4615dbe03687",
   "metadata": {},
   "outputs": [],
   "source": [
    "def portfolio_variance(weight, mean_returns, covariance):\n",
    "    return portfolio_performance(weight, mean_returns, covariance)[1]"
   ]
  },
  {
   "cell_type": "code",
   "execution_count": 34,
   "id": "b7a6b833-eec6-4bbe-b5de-68d92a1a7569",
   "metadata": {},
   "outputs": [],
   "source": [
    "def minimize_variance(mean_returns, covariance, boundaries_set = (0,1)):\n",
    "    \"maximize volatility through adjusting security weighting in portfolio\"\n",
    "    number_securities = len(mean_returns)\n",
    "    args = (mean_returns, covariance)\n",
    "    boundaries = ({'type': 'eq', 'fun': lambda x: np.sum(x) -1})\n",
    "    reaches = boundaries_set\n",
    "    barriers = tuple(reaches for security in range(number_securities))\n",
    "    result = sco.minimize(portfolio_variance, number_securities* [1.0/number_securities], args = args,\n",
    "                                   method = 'SLSQP', barriers = barriers, boundaries = boundaries)   \n",
    "    return result"
   ]
  },
  {
   "cell_type": "code",
   "execution_count": 35,
   "id": "c03136dd-976b-4d6b-b974-135c310c0b95",
   "metadata": {},
   "outputs": [],
   "source": [
    "def computed_results(mean_returns, covariance, hurdle_rate=0.03, boundaries_set = (0,1)):\n",
    "                          \n",
    "    # Optimal Sharpe Ratio Portfolio\n",
    "    portfolio_optimal_sharpe_rat = optimal_sharpe_rat(mean_returns, covariance)\n",
    "    returns_optimal_sharpe_rat, standard_dev_optimal_sharpe_rat = portfolio_performance(portfolio_optimal_sharpe_rat['x'], mean_returns, covariance) \n",
    "    allocation_optimal_sharpe_rat = pd.DataFrame(portfolio_optimal_sharpe_rat['x'], index=mean_returns.index, columns=['allocation'])\n",
    "    allocation_optimal_sharpe_rat.allocation = [round(i*100, 0) for i in allocation_optimal_sharpe_rat.allocation]                      \n",
    "                          \n",
    "    # Least Risk Portfolio                      \n",
    "    volume_limited_portfolio = minimize_variance(mean_returns, covariance) \n",
    "    returns_volume_limited, standard_dev_volume_limited = portfolio_performance(volume_limited['x'], mean_returns, covariance)   \n",
    "    allocation_volume_limited = pd.DataFrame(volume_limited_portfolio['x'], index=mean_returns.index, columns=['allocation']) \n",
    "    allocation_volume_limited.allocation = [round(i*100, 0) for i in allocation_optimal_sharpe_rat.allocation]                      \n",
    "    \n",
    "    # Efficient Frontier\n",
    "    efficient_composition = []\n",
    "    target_returns = np.linspace(returns_volume_limited, returns_optimal_sharpe_rat, 20)\n",
    "    for target in target_returns:\n",
    "        efficient_composition.append(efficient_opt(mean_returns, covariance, target,['fun']))   \n",
    "    \n",
    "    returns_optimal_sharpe_rat, standard_dev_optimal_sharpe_rat = round(returns_optimal_sharpe_rat*100,2), round(standard_dev_optimal_sharpe_rat*100,2)                      \n",
    "    returns_volume_limited, standard_dev_volume_limited = round(returns_volume_limited*100, 2), round(standard_dev_volume_limited*100, 2)                      \n",
    "                          \n",
    "    return returns_optimal_sharpe_rat, \n",
    "    standard_dev_optimal_sharpe_rat, \n",
    "    allocation_optimal_sharpe_rat, \n",
    "    returns_volume_limited, \n",
    "    standard_dev_volume_limited, \n",
    "    allocation_volume_limited, \n",
    "    efficient_composition, target_returns              "
   ]
  },
  {
   "cell_type": "code",
   "execution_count": 36,
   "id": "1a17bf03-aebb-4d22-adad-373d3f3afaee",
   "metadata": {},
   "outputs": [
    {
     "ename": "SyntaxError",
     "evalue": "invalid syntax (704352117.py, line 29)",
     "output_type": "error",
     "traceback": [
      "\u001b[0;36m  File \u001b[0;32m\"/var/folders/t7/x7q1pbqj4ss8841vmphkd2v00000gn/T/ipykernel_31547/704352117.py\"\u001b[0;36m, line \u001b[0;32m29\u001b[0m\n\u001b[0;31m    line = dict(color='black', width=3, dash = 'dotdash' color='blue')\u001b[0m\n\u001b[0m                                                         ^\u001b[0m\n\u001b[0;31mSyntaxError\u001b[0m\u001b[0;31m:\u001b[0m invalid syntax\n"
     ]
    }
   ],
   "source": [
    "def ef_plot(mean_returns, covariance, hurdle_rate=0.0275, boundaries_set = (0,1)):\n",
    "    returns_optimal_sharpe_rat, standard_dev_optimal_sharpe_rat, allocation_optimal_sharpe_rat, returns_volume_limited, standard_dev_volume_limited, allocation_volume_limited, efficient_composition, target_returns = computed_results(mean_returns, covariance, hurdle_rate, boundaries_set)                   \n",
    "                          \n",
    "    # Optimal Sharpe Ratio\n",
    "    optimal_sharpe_rat = go.scatter(\n",
    "         name = 'Optimal Sharpe Ratio',\n",
    "         mode = 'markers',\n",
    "         x = [standard_dev_optimal_sharpe_rat],\n",
    "         y = [returns_optimal_sharpe_rat],\n",
    "         marker = dict(color='magenta', size=15, line=dict(width=4, color='blue'))\n",
    "    )\n",
    "                          \n",
    "    # Least Risk Volume\n",
    "    limited_volume = go.scatter(\n",
    "         name = 'Minimum Risk',\n",
    "         mode = 'markers',\n",
    "         x = [standard_dev_volume_limited],\n",
    "         y = [returns_volume_limited],\n",
    "         marker = dict(color='red', size=15, line=dict(width=4, color='blue'))\n",
    "    )                          \n",
    "                          \n",
    "\n",
    "    # Efficient Frontier\n",
    "    graph_ef = go.scatter(\n",
    "         name = 'Efficient Frontier',\n",
    "         mode = 'liness',\n",
    "         x = [round(ef_std * 100, 2) for ef_std in efficient_composition],\n",
    "         y = [round(target * 100, 2) for target in target_returns],\n",
    "         line = dict(color='black', width=3, dash = 'dotdash' color='blue')\n",
    "    )                          \n",
    "                                   \n",
    "                          \n",
    "    traces = ['optimal_sharpe_rat', 'limited_volume', 'graph_ef']                     \n",
    "    configuration = go.layout(\n",
    "         title = 'Modern Portfolio Thoery - Optimization with Efficient Frontier',\n",
    "         yaxis = dict(title = 'Percent Annual Return'),\n",
    "         xaxis = dict(title ='Percent Annual Volatility'),\n",
    "         showlegend = True,\n",
    "         legend = dict(\n",
    "             x = 0.75, y = 0, traceorder = 'normal',\n",
    "             bgcolor = '#E2E2E2',                           # gray background\n",
    "             bordercolor = 'black',\n",
    "             borderwidth = 2),\n",
    "         width = 800,\n",
    "         height = 600)\n",
    "\n",
    "                          \n",
    "                          \n",
    "    fig = go.figure(data=traces, layout = configuration)                    \n",
    "    return fig.show()                     \n",
    "                          \n",
    "                          \n",
    "                          \n",
    "                          \n",
    "stocklist = ['GOOGL', 'AAPL', 'TSLA', 'IBM']\n",
    "stocks = stocklist\n",
    "\n",
    "end_date = dt.datetime.now()\n",
    "start_date = end_date - dt.timedelta(days=365)\n",
    "\n",
    "weight = np.array([0.3, 0.3, 0.3, 0.1])\n",
    "\n",
    "mean_returns, covariance = gets_the_data(stocks, start = start_date, end = end_date)\n",
    "#mean_returns, covariance = gets_the_data(stocks, start = start_date, end = end_date)\n",
    "returns, std_dev = portfolio_performance(weight, mean_returns, covariance)\n",
    "\n",
    "                       \n",
    "                          \n",
    "# result = optimal_sharpe_rat(mean_returns, covariance, weight, hurdle_rate=0.03)  \n",
    "result =  optimal_sharpe_rat(mean_returns, covariance)   \n",
    "opt_sharpe, opt_weight = result['fun'], result['x']                           \n",
    "print(opt_sharpe, opt_weight)  \n",
    "                          \n",
    "                          \n",
    "                          \n",
    "                          \n",
    " \n",
    "minimal_var_result= minimize_variance(mean_returns, covariance)\n",
    "min_var, min_var_weight = minimal_var_result['fun'], minimal_var_result['x']\n",
    "          \n",
    "print(returns, std_dev)\n",
    "          \n",
    "\n",
    "ef_plot(mean_returns, covariance)\n",
    "\n",
    "\n",
    "\n",
    "\n",
    "\n"
   ]
  },
  {
   "cell_type": "code",
   "execution_count": null,
   "id": "cd19d0f2-3b92-40a7-bd71-703e96d41285",
   "metadata": {},
   "outputs": [],
   "source": []
  }
 ],
 "metadata": {
  "kernelspec": {
   "display_name": "Python 3 (ipykernel)",
   "language": "python",
   "name": "python3"
  },
  "language_info": {
   "codemirror_mode": {
    "name": "ipython",
    "version": 3
   },
   "file_extension": ".py",
   "mimetype": "text/x-python",
   "name": "python",
   "nbconvert_exporter": "python",
   "pygments_lexer": "ipython3",
   "version": "3.9.13"
  }
 },
 "nbformat": 4,
 "nbformat_minor": 5
}
